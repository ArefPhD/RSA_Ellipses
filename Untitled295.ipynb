{
  "nbformat": 4,
  "nbformat_minor": 0,
  "metadata": {
    "colab": {
      "private_outputs": true,
      "provenance": []
    },
    "kernelspec": {
      "name": "python3",
      "display_name": "Python 3"
    },
    "language_info": {
      "name": "python"
    }
  },
  "cells": [
    {
      "cell_type": "code",
      "execution_count": null,
      "metadata": {
        "id": "DzjMjtoJ0Nqh"
      },
      "outputs": [],
      "source": [
        "import numpy as np\n",
        "import matplotlib.pyplot as plt\n",
        "from shapely.geometry import Polygon, Point\n",
        "from scipy.io import savemat\n",
        "import time\n",
        "\n",
        "# Define the dimensions of the rectangular surface\n",
        "Lx = 50 # length in x-direction\n",
        "Ly = 50 # length in y-direction\n",
        "\n",
        "# Define the dimensions of the ellipses\n",
        "a = 0.25 # major axis\n",
        "b = 0.25 # minor axis\n",
        "theta = np.linspace(0, 2*np.pi, 20)\n",
        "\n",
        "# Initialize a list to store the ellipses\n",
        "ellipses = []\n",
        "\n",
        "# Load existing ellipses if any\n",
        "# load('AR1_repeat.mat')\n",
        "\n",
        "# Define the maximum distance for checking overlap \n",
        "max_dist = 2*a\n",
        "\n",
        "# Define the filename to save the centroids\n",
        "filename = 'centroids.mat'\n",
        "\n",
        "# Define the interval to save the centroids (in seconds)\n",
        "interval = 10*60\n",
        "\n",
        "# Initialize the time of the last save\n",
        "last_save_time = time.time()\n",
        "\n",
        "# Loop over the number of ellipses to place\n",
        "for i in range(len(ellipses), 1000000):\n",
        "    \n",
        "    # Initialize a flag to indicate whether the ellipse has been successfully placed\n",
        "    placed = False\n",
        "    \n",
        "    # Loop until the ellipse is successfully placed\n",
        "    while not placed:\n",
        "        \n",
        "        # Generate a random position for the center of the ellipse\n",
        "        x = np.random.uniform(a, Lx - a)\n",
        "        y = np.random.uniform(b, Ly - b)\n",
        "        \n",
        "        # Create a Polygon object for the ellipse\n",
        "        xe = a*np.cos(theta) + x\n",
        "        ye = b*np.sin(theta) + y\n",
        "        ellipse = Polygon(np.column_stack((xe, ye)))\n",
        "        \n",
        "        # Check if the ellipse overlaps with any existing ellipses within a certain distance\n",
        "        overlap = False\n",
        "        for j in range(len(ellipses)):\n",
        "            if Point(ellipse.centroid).distance(Point(ellipses[j].centroid)) <= max_dist and ellipse.intersects(ellipses[j]):\n",
        "                overlap = True\n",
        "                break\n",
        "        \n",
        "        # If the ellipse does not overlap, add it to the list of ellipses and increment the counter\n",
        "        if not overlap:\n",
        "            ellipses.append(ellipse)\n",
        "            placed = True\n",
        "            print(f'Ellipses placed: {len(ellipses)}')\n",
        "            # Save the centroids every 10 seconds\n",
        "            if time.time() - last_save_time >= interval:\n",
        "                centroids = []\n",
        "                for j in range(sum([1 for e in ellipses if e])):\n",
        "                    e = ellipses[j]\n",
        "                    p = Polygon(e)\n",
        "                    x, y = p.centroid.x, p.centroid.y\n",
        "                    centroids.append([1, x, y])\n",
        "                centroids = np.array(centroids)\n",
        "                savemat(filename, {'centroids': centroids})\n",
        "                last_save_time = time.time()\n",
        "\n",
        "# Save the final centroids\n",
        "centroids = []\n",
        "for i in range(sum([1 for e in ellipses if e])):\n",
        "    e = ellipses[i]\n",
        "    p = Polygon(e)\n",
        "    x, y = p.centroid.x, p.centroid.y\n",
        "    centroids.append([1, x, y])\n",
        "centroids = np.array(centroids)\n",
        "savemat(filename, {'centroids': centroids})\n",
        "\n",
        "# Plot the ellipses\n",
        "fig, ax = plt.subplots(figsize=(10, 10))\n",
        "for ellipse in ellipses:\n",
        "    ax.plot(*ellipse.exterior.xy, color='black')\n",
        "ax.set_xlim(0, Lx)\n"
      ]
    },
    {
      "cell_type": "code",
      "source": [
        "import numpy as np\n",
        "from scipy.io import savemat\n",
        "\n",
        "# Calculate ellipse centroids\n",
        "centroids = []\n",
        "for i in range(sum([1 for e in ellipses if e])):\n",
        "    ellipse = ellipses[i]\n",
        "    ellipse = Polygon(ellipse)\n",
        "    x, y = ellipse.centroid.x, ellipse.centroid.y\n",
        "    centroids.append([1, x, y])\n",
        "centroids = np.array(centroids)\n",
        "\n",
        "# Save centroids as MATLAB file\n",
        "savemat('matrix_disc_20by20.mat', {'centroids': centroids})"
      ],
      "metadata": {
        "id": "gPx2NNOf71Da"
      },
      "execution_count": null,
      "outputs": []
    },
    {
      "cell_type": "code",
      "source": [
        "from google.colab import files\n",
        "\n",
        "files.download('matrix_disc_20by20.mat')"
      ],
      "metadata": {
        "id": "IKITjbVN8IsN"
      },
      "execution_count": null,
      "outputs": []
    },
    {
      "cell_type": "code",
      "source": [
        "fig, ax = plt.subplots(figsize=(10, 10))\n",
        "for ellipse in ellipses:\n",
        "    ax.plot(*ellipse.exterior.xy, color='black')\n",
        "ax.set_xlim(0, Lx)\n",
        "ax.set_ylim(0, Ly)\n",
        "plt.show()"
      ],
      "metadata": {
        "id": "HBG4iTxB0Wz0"
      },
      "execution_count": null,
      "outputs": []
    },
    {
      "cell_type": "code",
      "source": [
        "V=centroids\n",
        "V.shape"
      ],
      "metadata": {
        "id": "YcAbPCC3qur1"
      },
      "execution_count": null,
      "outputs": []
    },
    {
      "cell_type": "code",
      "source": [
        "ellipses"
      ],
      "metadata": {
        "id": "eFILrValysQT"
      },
      "execution_count": null,
      "outputs": []
    },
    {
      "cell_type": "code",
      "source": [
        "import numpy as np\n",
        "from shapely.geometry import Polygon, Point\n",
        "\n",
        "# Load matrix V from a file\n",
        "\n",
        "# Define the dimensions of the rectangular surface\n",
        "Lx = 50\n",
        "Ly = 50\n",
        "\n",
        "# Define the dimensions of the ellipses\n",
        "a = 0.25 # major axis\n",
        "b = 0.25 # minor axis\n",
        "theta = np.linspace(0, 2*np.pi, 20)\n",
        "\n",
        "# Initialize a list to store the ellipses to be added to V\n",
        "new_ellipses = []\n",
        "\n",
        "# Loop over the mesh positions\n",
        "for i in range(0, Lx, 1):\n",
        "    for j in range(0, Ly, 1):\n",
        "        # Compute the center of the mesh\n",
        "        x = i + 0.5\n",
        "        y = j + 0.5\n",
        "        \n",
        "        # Create a Polygon object for the ellipse\n",
        "        xe = a*np.cos(theta) + x\n",
        "        ye = b*np.sin(theta) + y\n",
        "        ellipse = Polygon(np.column_stack((xe, ye)))\n",
        "        \n",
        "        # Check if the ellipse overlaps with any existing ellipses within a certain distance\n",
        "        overlap = False\n",
        "        for j in range(len(ellipses)):\n",
        "            if Point(ellipse.centroid).distance(Point(ellipses[j].centroid)) <= max_dist and ellipse.intersects(ellipses[j]):\n",
        "                overlap = True\n",
        "                break\n",
        "        \n",
        "        # If the ellipse does not overlap, add it to the list of ellipses and increment the counter\n",
        "        if not overlap:\n",
        "            ellipses.append(ellipse)\n",
        "            placed = True\n",
        "            print(f'Ellipses placed: {len(ellipses)}') \n",
        "\n"
      ],
      "metadata": {
        "id": "wEjSZvHXqxJF"
      },
      "execution_count": null,
      "outputs": []
    },
    {
      "cell_type": "code",
      "source": [
        "fig, ax = plt.subplots(figsize=(10, 10))\n",
        "for ellipse in ellipses:\n",
        "    ax.plot(*ellipse.exterior.xy, color='black')\n",
        "ax.set_xlim(0, Lx)\n",
        "ax.set_ylim(0, Ly)\n",
        "plt.show()"
      ],
      "metadata": {
        "id": "pFeC0rXWzFjN"
      },
      "execution_count": null,
      "outputs": []
    },
    {
      "cell_type": "code",
      "source": [
        "fig, ax = plt.subplots()\n",
        "\n",
        "for v in V:\n",
        "    ax.scatter(v[1], v[2], facecolor='none', edgecolor='black')\n",
        "ax.set_xlim([0, Lx])\n",
        "ax.set_ylim([0, Ly])\n",
        "plt.show()"
      ],
      "metadata": {
        "id": "NZna8Y3wq0g6"
      },
      "execution_count": null,
      "outputs": []
    },
    {
      "cell_type": "code",
      "source": [],
      "metadata": {
        "id": "6LoYtk9OzEmD"
      },
      "execution_count": null,
      "outputs": []
    },
    {
      "cell_type": "code",
      "source": [
        "import scipy.io\n",
        "\n",
        "# Save matrix V to a .mat file\n",
        "scipy.io.savemat('matrix_V.mat', {'V': V})"
      ],
      "metadata": {
        "id": "BxpofHsxtUZ6"
      },
      "execution_count": null,
      "outputs": []
    },
    {
      "cell_type": "code",
      "source": [
        "from google.colab import files\n",
        "files.download('matrix_V.mat') "
      ],
      "metadata": {
        "id": "-lpv7yl-tY0q"
      },
      "execution_count": null,
      "outputs": []
    }
  ]
}