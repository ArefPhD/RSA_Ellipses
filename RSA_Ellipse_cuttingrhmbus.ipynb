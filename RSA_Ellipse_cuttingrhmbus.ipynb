{
  "nbformat": 4,
  "nbformat_minor": 0,
  "metadata": {
    "colab": {
      "private_outputs": true,
      "provenance": []
    },
    "kernelspec": {
      "name": "python3",
      "display_name": "Python 3"
    },
    "language_info": {
      "name": "python"
    }
  },
  "cells": [
    {
      "cell_type": "code",
      "execution_count": null,
      "metadata": {
        "id": "Wos-gNR8p1fu"
      },
      "outputs": [],
      "source": [
        "import numpy as np\n",
        "import matplotlib.pyplot as plt\n",
        "from shapely.geometry import Polygon, Point\n",
        "from scipy.io import savemat\n",
        "import time\n",
        "\n",
        "# Define the dimensions of the rectangular surface\n",
        "Lx = 50 # length in x-direction\n",
        "Ly = 50 # length in y-direction\n",
        "\n",
        "# Define the dimensions of the ellipses\n",
        "a = 2*0.25 # major axis\n",
        "b = 0.25 # minor axis\n",
        "theta = np.linspace(0, 2*np.pi, 200)\n",
        "\n",
        "# Initialize a list to store the ellipses\n",
        "ellipses = []\n",
        "\n",
        "# Load existing ellipses if any\n",
        "# load('AR1_repeat.mat')\n",
        "\n",
        "# Define the maximum distance for checking overlap \n",
        "max_dist = 2*a\n",
        "\n",
        "# Define the filename to save the centroids\n",
        "filename = 'centroids.mat'\n",
        "\n",
        "\n",
        "# Loop over the number of ellipses to place\n",
        "for i in range(len(ellipses), 1000000):\n",
        "    \n",
        "    # Initialize a flag to indicate whether the ellipse has been successfully placed\n",
        "    placed = False\n",
        "    \n",
        "    # Loop until the ellipse is successfully placed\n",
        "    while not placed:\n",
        "        \n",
        "        # Generate a random position for the center of the ellipse\n",
        "        x = np.random.uniform(a, Lx - a)\n",
        "        y = np.random.uniform(b, Ly - b)\n",
        "        \n",
        "        # Create a Polygon object for the ellipse\n",
        "        xe = a*np.cos(theta) + x\n",
        "        ye = b*np.sin(theta) + y\n",
        "        ellipse = Polygon(np.column_stack((xe, ye)))\n",
        "        \n",
        "        # Check if the ellipse overlaps with any existing ellipses within a certain distance\n",
        "        overlap = False\n",
        "        for j in range(len(ellipses)):\n",
        "            if Point(ellipse.centroid).distance(Point(ellipses[j].centroid)) <= max_dist and ellipse.intersects(ellipses[j]):\n",
        "                overlap = True\n",
        "                break\n",
        "        \n",
        "        # If the ellipse does not overlap, add it to the list of ellipses and increment the counter\n",
        "        if not overlap:\n",
        "            ellipses.append(ellipse)\n",
        "            placed = True\n",
        "            print(f'Ellipses placed: {len(ellipses)}')\n",
        "            # Save the centroids every 10 seconds\n",
        "    if len(ellipses) == 3000:\n",
        "       break\n",
        "if len(ellipses) == 3000:\n",
        "   break    \n",
        " \n",
        "# Save the final centroids\n",
        "centroids = []\n",
        "for i in range(sum([1 for e in ellipses if e])):\n",
        "    e = ellipses[i]\n",
        "    p = Polygon(e)\n",
        "    x, y = p.centroid.x, p.centroid.y\n",
        "    centroids.append([1, x, y])\n",
        "centroids = np.array(centroids)\n",
        "savemat(filename, {'centroids': centroids})\n",
        "\n",
        "# Plot the ellipses\n",
        "fig, ax = plt.subplots(figsize=(10, 10))\n",
        "for ellipse in ellipses:\n",
        "    ax.plot(*ellipse.exterior.xy, color='black')\n",
        "ax.set_xlim(0, Lx)"
      ]
    },
    {
      "cell_type": "code",
      "source": [
        "# Save the final centroids\n",
        "centroids = []\n",
        "for i in range(sum([1 for e in ellipses if e])):\n",
        "    e = ellipses[i]\n",
        "    p = Polygon(e)\n",
        "    x, y = p.centroid.x, p.centroid.y\n",
        "    centroids.append([1, x, y])\n",
        "centroids = np.array(centroids)\n",
        "savemat(filename, {'centroids': centroids})"
      ],
      "metadata": {
        "id": "TG5EsIbgp5nY"
      },
      "execution_count": null,
      "outputs": []
    },
    {
      "cell_type": "code",
      "source": [
        "import numpy as np\n",
        "\n",
        "# Create mesh with 0.1 step size\n",
        "x_range = 50  # replace with the desired range\n",
        "step_size = 0.25/4\n",
        "x1, y1 = np.meshgrid(np.arange(0, x_range+step_size, step_size), np.arange(0, x_range+step_size, step_size))\n",
        "\n",
        "threshold = 0.2110\n",
        "\n",
        "# Set points outside the desired range to NaN\n",
        "x1[(x1 < a) | (x1 > x_range - a) | (y1 > x_range - b) | (y1 < b)] = np.nan\n",
        "y1[(x1 < a) | (x1 > x_range - a) | (y1 > x_range - b) | (y1 < b)] = np.nan\n",
        "\n",
        "# Define bounds for each vertex\n",
        "v = centroids \n",
        "n = v.shape[0]\n",
        "xmin = np.zeros(n)\n",
        "xmax = np.zeros(n)\n",
        "ymin = np.zeros(n)\n",
        "ymax = np.zeros(n)\n",
        "\n",
        "aa = a\n",
        "bb = b\n",
        "\n",
        "for i in range(n):\n",
        "    x0 = v[i, 1]\n",
        "    y0 = v[i, 2]\n",
        "    xmin[i] = x0 - aa\n",
        "    xmax[i] = x0 + aa\n",
        "    ymin[i] = y0 - bb\n",
        "    ymax[i] = y0 + bb\n",
        "    d = np.abs((x1 - x0) / (2*aa)) + np.abs((y1 - y0) / (2*bb))\n",
        "    x1[d < 1] = np.nan\n",
        "    y1[d < 1] = np.nan "
      ],
      "metadata": {
        "id": "UvRmT_hNp8z_"
      },
      "execution_count": null,
      "outputs": []
    },
    {
      "cell_type": "code",
      "source": [
        "# Find the rows where both x and y are NaN\n",
        "nan_rows = np.isnan(x1) | np.isnan(y1)\n",
        "\n",
        "# Remove the rows from x1 and y1 where both values are NaN\n",
        "x1 = x1[~nan_rows]\n",
        "y1 = y1[~nan_rows]"
      ],
      "metadata": {
        "id": "sr5nlHLWp_GK"
      },
      "execution_count": null,
      "outputs": []
    },
    {
      "cell_type": "code",
      "source": [
        "import matplotlib.pyplot as plt\n",
        "\n",
        "# Create figure and axes\n",
        "fig, ax = plt.subplots(figsize=(10, 10))\n",
        "\n",
        "# Plot mesh points\n",
        "ax.scatter(x1, y1, s=0.1)\n",
        "for ellipse in ellipses:\n",
        "    ax.plot(*ellipse.exterior.xy, color='black')\n",
        "# Set x and y limits\n",
        "ax.set_xlim(0, 10)\n",
        "ax.set_ylim(0, 10)\n",
        "\n",
        "# Show plot\n",
        "plt.show()"
      ],
      "metadata": {
        "id": "ptpXsWwmqAmv"
      },
      "execution_count": null,
      "outputs": []
    },
    {
      "cell_type": "code",
      "source": [
        "np.min(x1)"
      ],
      "metadata": {
        "id": "TfueuzS8qUlw"
      },
      "execution_count": null,
      "outputs": []
    },
    {
      "cell_type": "code",
      "source": [
        "0.25/4"
      ],
      "metadata": {
        "id": "c0DVndqNrgKu"
      },
      "execution_count": null,
      "outputs": []
    }
  ]
}