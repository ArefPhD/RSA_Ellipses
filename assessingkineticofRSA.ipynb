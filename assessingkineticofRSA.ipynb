{
  "nbformat": 4,
  "nbformat_minor": 0,
  "metadata": {
    "colab": {
      "private_outputs": true,
      "provenance": []
    },
    "kernelspec": {
      "name": "python3",
      "display_name": "Python 3"
    },
    "language_info": {
      "name": "python"
    }
  },
  "cells": [
    {
      "cell_type": "code",
      "execution_count": null,
      "metadata": {
        "id": "DzjMjtoJ0Nqh"
      },
      "outputs": [],
      "source": [
        "import numpy as np\n",
        "import matplotlib.pyplot as plt\n",
        "from shapely.geometry import Polygon, Point\n",
        "from scipy.io import savemat\n",
        "import time\n",
        "\n",
        "# Define the dimensions of the rectangular surface\n",
        "Lx = 5  # length in x-direction\n",
        "Ly = 5  # length in y-direction\n",
        "\n",
        "# Define the dimensions of the ellipses\n",
        "a = 0.25  # major axis\n",
        "b = 0.25  # minor axis\n",
        "theta = np.linspace(0, 2 * np.pi, 20)\n",
        "\n",
        "# Initialize a list to store the ellipses\n",
        "ellipses = []\n",
        "\n",
        "# Define the maximum distance for checking overlap\n",
        "max_dist = 2 * a\n",
        "\n",
        "\n",
        "\n",
        "# Initialize a matrix to record total and successful attempts\n",
        "attempts = np.zeros((1, 10000000))\n",
        "succ_attempts = np.zeros((1, 10000000))\n",
        "n = 0\n",
        "m=0\n",
        "# Loop over the number of ellipses to place\n",
        "for i in range(10000000):\n",
        "  \n",
        "\n",
        "    # Initialize a flag to indicate whether the ellipse has been successfully placed\n",
        "    placed = False\n",
        "\n",
        "    # Loop until the ellipse is successfully placed\n",
        "    while not placed:\n",
        "\n",
        "    # Increment the total attempts counter\n",
        "        attempts[0, n] +=1\n",
        "        n+=1\n",
        "        #print(attempts[0, n])\n",
        "\n",
        "        # Generate a random position for the center of the ellipse\n",
        "        x = np.random.uniform(a, Lx - a)\n",
        "        y = np.random.uniform(b, Ly - b)\n",
        "\n",
        "        # Create a Polygon object for the ellipse\n",
        "        xe = a * np.cos(theta) + x\n",
        "        ye = b * np.sin(theta) + y\n",
        "        ellipse = Polygon(np.column_stack((xe, ye)))\n",
        "\n",
        "        # Check if the ellipse overlaps with any existing ellipses within a certain distance\n",
        "        overlap = False\n",
        "        for j in range(len(ellipses)):\n",
        "            if Point(ellipse.centroid).distance(Point(ellipses[j].centroid)) <= max_dist and ellipse.intersects(\n",
        "                    ellipses[j]):\n",
        "                overlap = True\n",
        "                break\n",
        "\n",
        "        # If the ellipse does not overlap, add it to the list of ellipses, increment the successful attempts counter, and set the placed flag to True\n",
        "        if not overlap:\n",
        "            ellipses.append(ellipse)\n",
        "            succ_attempts[0, m] +=1\n",
        "            m += 1\n",
        "            placed = True\n",
        "            print(f'Ellipses placed: {len(ellipses)}')\n",
        "\n",
        "\n",
        "# Plot the final configuration of ellipses\n",
        "fig, ax = plt.subplots()\n",
        "for ellipse in ellipses:\n",
        "    ax.plot(*ellipse.exterior.xy)\n",
        "plt.show()\n"
      ]
    },
    {
      "cell_type": "code",
      "source": [
        "x"
      ],
      "metadata": {
        "id": "Zu7-jduZdsO6"
      },
      "execution_count": null,
      "outputs": []
    },
    {
      "cell_type": "code",
      "source": [
        "import numpy as np\n",
        "import matplotlib.pyplot as plt\n",
        "succ_attempts=succ_attempts.cumsum()\n",
        "attempts=attempts.cumsum()\n",
        "# Define x and y arrays\n",
        "x =attempts*(np.pi*0.25*0.25)*(1/25)\n",
        "y =succ_attempts*(np.pi*0.25*0.25)*(1/25)\n",
        "\n",
        "# Calculate the finite difference of y with respect to x\n",
        "dy_dx = np.diff(y) / np.diff(x)\n",
        "\n",
        "# Plot the finite difference\n",
        "plt.loglog(x[:-1], dy_dx)\n",
        "\n",
        "plt.xlabel('x')\n",
        "plt.ylabel('dy/dx')\n",
        "plt.show()"
      ],
      "metadata": {
        "id": "p47r6NxNNzaA"
      },
      "execution_count": null,
      "outputs": []
    },
    {
      "cell_type": "code",
      "source": [
        "dy_dx[60]"
      ],
      "metadata": {
        "id": "pqmuxd8wMh-j"
      },
      "execution_count": null,
      "outputs": []
    },
    {
      "cell_type": "code",
      "source": [],
      "metadata": {
        "id": "RaeO5oC8b5WI"
      },
      "execution_count": null,
      "outputs": []
    },
    {
      "cell_type": "code",
      "source": [],
      "metadata": {
        "id": "78pwX7czameA"
      },
      "execution_count": null,
      "outputs": []
    },
    {
      "cell_type": "code",
      "source": [
        "cumulative_data1 = succ_attempts.cumsum()"
      ],
      "metadata": {
        "id": "jTILoq9yN2_A"
      },
      "execution_count": null,
      "outputs": []
    },
    {
      "cell_type": "code",
      "source": [
        "cumulative_data1"
      ],
      "metadata": {
        "id": "ZjT067-cM0Q_"
      },
      "execution_count": null,
      "outputs": []
    },
    {
      "cell_type": "code",
      "source": [
        "import matplotlib.pyplot as plt\n",
        "import numpy as np\n",
        "\n",
        "# create example array\n",
        "\n",
        "# select rows to plot\n",
        "x = cumulative_data [0]  # first row\n",
        "y = cumulative_data1 [0]  # second row\n",
        "\n",
        "# create scatter plot\n",
        "plt.scatter(x, y)\n",
        "\n",
        "# set axis labels and title\n",
        "plt.xlabel('x')\n",
        "plt.ylabel('y')\n",
        "plt.title('Scatter plot of row 1 vs row 2')\n",
        "\n",
        "# display plot\n",
        "plt.show()"
      ],
      "metadata": {
        "id": "48_1TWWlKo7C"
      },
      "execution_count": null,
      "outputs": []
    },
    {
      "cell_type": "code",
      "source": [
        "import numpy as np\n",
        "from scipy.io import savemat\n",
        "\n",
        "# Calculate ellipse centroids\n",
        "centroids = []\n",
        "for i in range(sum([1 for e in ellipses if e])):\n",
        "    ellipse = ellipses[i]\n",
        "    ellipse = Polygon(ellipse)\n",
        "    x, y = ellipse.centroid.x, ellipse.centroid.y\n",
        "    centroids.append([1, x, y])\n",
        "centroids = np.array(centroids)\n",
        "\n",
        "# Save centroids as MATLAB file\n",
        "savemat('AR1.25_50by50_thirdattempt.mat', {'centroids': centroids})"
      ],
      "metadata": {
        "id": "gPx2NNOf71Da"
      },
      "execution_count": null,
      "outputs": []
    },
    {
      "cell_type": "code",
      "source": [
        "from google.colab import files\n",
        "\n",
        "files.download('AR1.25_50by50_thirdattempt.mat')"
      ],
      "metadata": {
        "id": "IKITjbVN8IsN"
      },
      "execution_count": null,
      "outputs": []
    },
    {
      "cell_type": "code",
      "source": [],
      "metadata": {
        "id": "WA_laJ1UBGvW"
      },
      "execution_count": null,
      "outputs": []
    }
  ]
}