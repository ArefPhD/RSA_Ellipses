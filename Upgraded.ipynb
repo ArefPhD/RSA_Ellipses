{
  "nbformat": 4,
  "nbformat_minor": 0,
  "metadata": {
    "colab": {
      "private_outputs": true,
      "provenance": []
    },
    "kernelspec": {
      "name": "python3",
      "display_name": "Python 3"
    },
    "language_info": {
      "name": "python"
    }
  },
  "cells": [
    {
      "cell_type": "code",
      "execution_count": null,
      "metadata": {
        "id": "rWRBteFl9UG3"
      },
      "outputs": [],
      "source": [
        "import numpy as np\n",
        "import matplotlib.pyplot as plt\n",
        "from shapely.geometry import Polygon, Point\n",
        "\n",
        "# Define the dimensions of the rectangular surface\n",
        "Lx = 50 # length in x-direction\n",
        "Ly = 50 # length in y-direction\n",
        "\n",
        "# Define the dimensions of the ellipses\n",
        "a = 12*0.25 # major axis\n",
        "b = 0.25 # minor axis\n",
        "theta = np.linspace(0, 2*np.pi, 20)\n",
        "\n",
        "# Initialize a list to store the ellipses\n",
        "ellipses = []\n",
        "\n",
        "# Load existing ellipses if any\n",
        "# load('AR1_repeat.mat')\n",
        "\n",
        "# Define the maximum distance for checking overlap \n",
        "max_dist = 2*a\n",
        "\n",
        "# Loop over the number of ellipses to place\n",
        "for i in range(len(ellipses), 1000000):\n",
        "    \n",
        "    # Initialize a flag to indicate whether the ellipse has been successfully placed\n",
        "    placed = False\n",
        "    \n",
        "    # Loop until the ellipse is successfully placed\n",
        "    while not placed:\n",
        "        \n",
        "        # Generate a random position for the center of the ellipse\n",
        "        x = np.random.uniform(a, Lx - a)\n",
        "        y = np.random.uniform(b, Ly - b)\n",
        "        \n",
        "        # Create a Polygon object for the ellipse\n",
        "        xe = a*np.cos(theta) + x\n",
        "        ye = b*np.sin(theta) + y\n",
        "        ellipse = Polygon(np.column_stack((xe, ye)))\n",
        "        \n",
        "        # Check if the ellipse overlaps with any existing ellipses within a certain distance\n",
        "        overlap = False\n",
        "        for j in range(len(ellipses)):\n",
        "            if Point(ellipse.centroid).distance(Point(ellipses[j].centroid)) <= max_dist and ellipse.intersects(ellipses[j]):\n",
        "                overlap = True\n",
        "                break\n",
        "        \n",
        "        # If the ellipse does not overlap, add it to the list of ellipses and increment the counter\n",
        "        if not overlap:\n",
        "            ellipses.append(ellipse)\n",
        "            placed = True\n",
        "            print(f'Ellipses placed: {len(ellipses)}')\n",
        "            # save('AR1_repeat6.mat')\n",
        "            \n",
        "# Plot the ellipses\n",
        "fig, ax = plt.subplots(figsize=(10, 10))\n",
        "for ellipse in ellipses:\n",
        "    ax.plot(*ellipse.exterior.xy, color='black')\n",
        "ax.set_xlim(0, Lx)\n",
        "ax.set_ylim(0, Ly)\n",
        "plt.show()\n"
      ]
    },
    {
      "cell_type": "code",
      "source": [
        "import numpy as np\n",
        "from scipy.io import savemat\n",
        "\n",
        "# Calculate ellipse centroids\n",
        "centroids = []\n",
        "for i in range(sum([1 for e in ellipses if e])):\n",
        "    ellipse = ellipses[i]\n",
        "    ellipse = Polygon(ellipse)\n",
        "    x, y = ellipse.centroid.x, ellipse.centroid.y\n",
        "    centroids.append([1, x, y])\n",
        "centroids = np.array(centroids)\n",
        "\n",
        "# Save centroids as MATLAB file\n",
        "savemat('centroids.mat', {'centroids': centroids})"
      ],
      "metadata": {
        "id": "19aqRySY_AIA"
      },
      "execution_count": null,
      "outputs": []
    },
    {
      "cell_type": "code",
      "source": [
        "from google.colab import files\n",
        "\n",
        "files.download('centroids.mat')"
      ],
      "metadata": {
        "id": "fU33q3ig_Bn3"
      },
      "execution_count": null,
      "outputs": []
    },
    {
      "cell_type": "code",
      "source": [
        "fig, ax = plt.subplots(figsize=(10, 10))\n",
        "for ellipse in ellipses:\n",
        "    ax.plot(*ellipse.exterior.xy, color='black')\n",
        "ax.set_xlim(0, Lx)\n",
        "ax.set_ylim(0, Ly)\n",
        "plt.show()"
      ],
      "metadata": {
        "id": "7zubnAp1_Cgn"
      },
      "execution_count": null,
      "outputs": []
    }
  ]
}