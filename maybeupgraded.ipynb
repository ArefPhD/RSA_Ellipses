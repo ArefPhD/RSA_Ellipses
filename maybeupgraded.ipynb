{
  "nbformat": 4,
  "nbformat_minor": 0,
  "metadata": {
    "colab": {
      "private_outputs": true,
      "provenance": []
    },
    "kernelspec": {
      "name": "python3",
      "display_name": "Python 3"
    },
    "language_info": {
      "name": "python"
    }
  },
  "cells": [
    {
      "cell_type": "code",
      "execution_count": null,
      "metadata": {
        "id": "DzjMjtoJ0Nqh"
      },
      "outputs": [],
      "source": [
        "import numpy as np\n",
        "import matplotlib.pyplot as plt\n",
        "from shapely.geometry import Polygon, Point\n",
        "from scipy.io import savemat\n",
        "import time\n",
        "\n",
        "# Define the dimensions of the rectangular surface\n",
        "Lx = 50 # length in x-direction\n",
        "Ly = 50 # length in y-direction\n",
        "\n",
        "# Define the dimensions of the ellipses\n",
        "a = 4*0.25 # major axis\n",
        "b = 0.25 # minor axis\n",
        "theta = np.linspace(0, 2*np.pi, 20)\n",
        "\n",
        "# Initialize a list to store the ellipses\n",
        "ellipses = []\n",
        "\n",
        "# Load existing ellipses if any\n",
        "# load('AR1_repeat.mat')\n",
        "\n",
        "# Define the maximum distance for checking overlap \n",
        "max_dist = 2*a\n",
        "\n",
        "# Define the filename to save the centroids\n",
        "filename = 'centroids.mat'\n",
        "\n",
        "# Define the interval to save the centroids (in seconds)\n",
        "interval = 10*60\n",
        "\n",
        "# Initialize the time of the last save\n",
        "last_save_time = time.time()\n",
        "\n",
        "# Loop over the number of ellipses to place\n",
        "for i in range(len(ellipses), 1000000):\n",
        "    \n",
        "    # Initialize a flag to indicate whether the ellipse has been successfully placed\n",
        "    placed = False\n",
        "    \n",
        "    # Loop until the ellipse is successfully placed\n",
        "    while not placed:\n",
        "        \n",
        "        # Generate a random position for the center of the ellipse\n",
        "        x = np.random.uniform(a, Lx - a)\n",
        "        y = np.random.uniform(b, Ly - b)\n",
        "        \n",
        "        # Create a Polygon object for the ellipse\n",
        "        xe = a*np.cos(theta) + x\n",
        "        ye = b*np.sin(theta) + y\n",
        "        ellipse = Polygon(np.column_stack((xe, ye)))\n",
        "        \n",
        "        # Check if the ellipse overlaps with any existing ellipses within a certain distance\n",
        "        overlap = False\n",
        "        for j in range(len(ellipses)):\n",
        "            if Point(ellipse.centroid).distance(Point(ellipses[j].centroid)) <= max_dist and ellipse.intersects(ellipses[j]):\n",
        "                overlap = True\n",
        "                break\n",
        "        \n",
        "        # If the ellipse does not overlap, add it to the list of ellipses and increment the counter\n",
        "        if not overlap:\n",
        "            ellipses.append(ellipse)\n",
        "            placed = True\n",
        "            print(f'Ellipses placed: {len(ellipses)}')\n",
        "            # Save the centroids every 10 seconds\n",
        "            if time.time() - last_save_time >= interval:\n",
        "                centroids = []\n",
        "                for j in range(sum([1 for e in ellipses if e])):\n",
        "                    e = ellipses[j]\n",
        "                    p = Polygon(e)\n",
        "                    x, y = p.centroid.x, p.centroid.y\n",
        "                    centroids.append([1, x, y])\n",
        "                centroids = np.array(centroids)\n",
        "                savemat(filename, {'centroids': centroids})\n",
        "                last_save_time = time.time()\n",
        "\n",
        "# Save the final centroids\n",
        "centroids = []\n",
        "for i in range(sum([1 for e in ellipses if e])):\n",
        "    e = ellipses[i]\n",
        "    p = Polygon(e)\n",
        "    x, y = p.centroid.x, p.centroid.y\n",
        "    centroids.append([1, x, y])\n",
        "centroids = np.array(centroids)\n",
        "savemat(filename, {'centroids': centroids})\n",
        "\n",
        "# Plot the ellipses\n",
        "fig, ax = plt.subplots(figsize=(10, 10))\n",
        "for ellipse in ellipses:\n",
        "    ax.plot(*ellipse.exterior.xy, color='black')\n",
        "ax.set_xlim(0, Lx)\n"
      ]
    },
    {
      "cell_type": "code",
      "source": [
        "melipses=ellipses"
      ],
      "metadata": {
        "id": "AizRIMCN6vGP"
      },
      "execution_count": null,
      "outputs": []
    },
    {
      "cell_type": "code",
      "source": [
        "del ellipses"
      ],
      "metadata": {
        "id": "n9AaaE7O8lbN"
      },
      "execution_count": null,
      "outputs": []
    },
    {
      "cell_type": "code",
      "source": [
        "ellipses=melipses"
      ],
      "metadata": {
        "id": "ZYmA9WoM8N1N"
      },
      "execution_count": null,
      "outputs": []
    },
    {
      "cell_type": "code",
      "source": [
        "fig, ax = plt.subplots(figsize=(10, 10))\n",
        "for ellipse in ellipses:\n",
        "    ax.plot(*ellipse.exterior.xy, color='black')\n",
        "ax.set_xlim(0, Lx)\n",
        "ax.set_ylim(0, Ly)\n",
        "plt.show()"
      ],
      "metadata": {
        "id": "HBG4iTxB0Wz0"
      },
      "execution_count": null,
      "outputs": []
    },
    {
      "cell_type": "code",
      "source": [
        "import numpy as np\n",
        "from shapely.geometry import Polygon, Point\n",
        "\n",
        "# Load matrix V from a file\n",
        "\n",
        "# Define the dimensions of the rectangular surface\n",
        "Lx = 50\n",
        "Ly = 50\n",
        "\n",
        "# Define the dimensions of the ellipses\n",
        "a = 4*0.25 # major axis\n",
        "b = 0.25 # minor axis\n",
        "theta = np.linspace(0, 2*np.pi, 20)\n",
        "\n",
        "# Initialize a list to store the ellipses to be added to V\n",
        "new_ellipses = []\n",
        "\n",
        "# Loop over the mesh positions\n",
        "for i in np.arange(0, Lx, 0.05):\n",
        "    for j in np.arange(0, Ly, 0.05):\n",
        "        # Compute the center of the mesh\n",
        "        x = i + 0.025\n",
        "        y = j + 0.025\n",
        "        \n",
        "        # Create a Polygon object for the ellipse\n",
        "        xe = a*np.cos(theta) + x\n",
        "        ye = b*np.sin(theta) + y\n",
        "        ellipse = Polygon(np.column_stack((xe, ye)))\n",
        "        \n",
        "        # Check if the ellipse overlaps with any existing ellipses within a certain distance\n",
        "        overlap = False\n",
        "        for j in range(len(ellipses)):\n",
        "            if Point(ellipse.centroid).distance(Point(ellipses[j].centroid)) <= max_dist and ellipse.intersects(ellipses[j]):\n",
        "                overlap = True\n",
        "                break\n",
        "        \n",
        "        # If the ellipse does not overlap and is within the boundary of the box, add it to the list of ellipses and increment the counter\n",
        "        if not overlap and ellipse.within(Polygon([(0,0), (0,Ly), (Lx,Ly), (Lx,0)])):\n",
        "            ellipses.append(ellipse)\n",
        "            placed = True\n",
        "            print(f'Ellipses placed: {len(ellipses)}')\n"
      ],
      "metadata": {
        "id": "wEjSZvHXqxJF"
      },
      "execution_count": null,
      "outputs": []
    },
    {
      "cell_type": "code",
      "source": [
        "fig, ax = plt.subplots(figsize=(10, 10))\n",
        "for ellipse in ellipses:\n",
        "    ax.plot(*ellipse.exterior.xy, color='black')\n",
        "ax.set_xlim(0, Lx)\n",
        "ax.set_ylim(0, Ly)\n",
        "plt.show()"
      ],
      "metadata": {
        "id": "pFeC0rXWzFjN"
      },
      "execution_count": null,
      "outputs": []
    },
    {
      "cell_type": "code",
      "source": [
        "import numpy as np\n",
        "from shapely.geometry import Polygon, Point\n",
        "from scipy.spatial import cKDTree\n",
        "\n",
        "# Define the dimensions of the rectangular surface\n",
        "Lx = 50\n",
        "Ly = 50\n",
        "\n",
        "# Define the dimensions of the ellipses\n",
        "a = 4*0.25 # major axis\n",
        "b = 0.25 # minor axis\n",
        "theta = np.linspace(0, 2*np.pi, 20)\n",
        "\n",
        "# Initialize an empty list to store the ellipses\n",
        "newellipses = []\n",
        "\n",
        "# Calculate the centers of all the meshes\n",
        "xv, yv = np.meshgrid(np.arange(0, Lx, 0.05) + 0.025, np.arange(0, Ly, 0.05) + 0.025)\n",
        "\n",
        "# Create an array to store the ellipse centers\n",
        "centers = np.column_stack((xv.ravel(), yv.ravel()))\n",
        "\n",
        "# Create an array to store the ellipse coordinates\n",
        "ell_coords = np.column_stack((a*np.cos(theta), b*np.sin(theta)))\n",
        "\n",
        "# Loop over each center and create an ellipse\n",
        "for center in centers:\n",
        "    # Create a Polygon object for the ellipse\n",
        "    xe, ye = ell_coords[:,0] + center[0], ell_coords[:,1] + center[1]\n",
        "    ellipse = Polygon(np.column_stack((xe, ye)))\n",
        "    \n",
        "    # Check if the ellipse overlaps with any existing ellipses within a certain distance\n",
        "    overlap = False\n",
        "    if len(ellipses) > 0:\n",
        "        tree = cKDTree([e.centroid.coords[0] for e in ellipses])\n",
        "        distances, indices = tree.query([ellipse.centroid.coords[0]], k=10, distance_upper_bound=0.5)\n",
        "        for idx in indices[0]:\n",
        "            if idx < len(ellipses) and ellipse.intersects(ellipses[idx]):\n",
        "                overlap = True\n",
        "                break\n",
        "    \n",
        "    # If the ellipse does not overlap and is within the boundary of the box, add it to the list of ellipses\n",
        "    if not overlap and ellipse.within(Polygon([(0,0), (0,Ly), (Lx,Ly), (Lx,0)])):\n",
        "        ellipses.append(ellipse)\n",
        "        print(f'Ellipses placed: {len(ellipses)}')\n",
        "\n",
        "# Print the number of ellipses placed\n",
        "print(f'Ellipses placed: {len(ellipses)}')\n"
      ],
      "metadata": {
        "id": "6LoYtk9OzEmD"
      },
      "execution_count": null,
      "outputs": []
    },
    {
      "cell_type": "code",
      "source": [
        "import numpy as np\n",
        "from scipy.io import savemat\n",
        "\n",
        "# Calculate ellipse centroids\n",
        "centroids = []\n",
        "for i in range(sum([1 for e in ellipses if e])):\n",
        "    ellipse = ellipses[i]\n",
        "    ellipse = Polygon(ellipse)\n",
        "    x, y = ellipse.centroid.x, ellipse.centroid.y\n",
        "    centroids.append([1, x, y])\n",
        "centroids = np.array(centroids)\n",
        "\n",
        "# Save centroids as MATLAB file\n",
        "savemat('matrix_disc_20by20.mat', {'centroids': centroids})"
      ],
      "metadata": {
        "id": "gPx2NNOf71Da"
      },
      "execution_count": null,
      "outputs": []
    },
    {
      "cell_type": "code",
      "source": [
        "from google.colab import files\n",
        "\n",
        "files.download('matrix_disc_20by20.mat')"
      ],
      "metadata": {
        "id": "IKITjbVN8IsN"
      },
      "execution_count": null,
      "outputs": []
    }
  ]
}