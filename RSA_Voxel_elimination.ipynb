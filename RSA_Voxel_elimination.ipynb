{
  "nbformat": 4,
  "nbformat_minor": 0,
  "metadata": {
    "colab": {
      "private_outputs": true,
      "provenance": []
    },
    "kernelspec": {
      "name": "python3",
      "display_name": "Python 3"
    },
    "language_info": {
      "name": "python"
    }
  },
  "cells": [
    {
      "cell_type": "code",
      "execution_count": null,
      "metadata": {
        "id": "oEdNhatNjuKx"
      },
      "outputs": [],
      "source": [
        "import numpy as np\n",
        "import matplotlib.pyplot as plt\n",
        "from shapely.geometry import Polygon, Point\n",
        "from scipy.io import savemat\n",
        "import time\n",
        "\n",
        "# Define the dimensions of the rectangular surface\n",
        "Lx = 50 # length in x-direction\n",
        "Ly = 50 # length in y-direction\n",
        "\n",
        "# Define the dimensions of the ellipses\n",
        "a = 2*0.25 # major axis\n",
        "b = 0.25 # minor axis\n",
        "theta = np.linspace(0, 2*np.pi, 20)\n",
        "\n",
        "# Initialize a list to store the ellipses\n",
        "ellipses = []\n",
        "\n",
        "# Load existing ellipses if any\n",
        "# load('AR1_repeat.mat')\n",
        "\n",
        "# Define the maximum distance for checking overlap \n",
        "max_dist = 2*a\n",
        "\n",
        "# Define the filename to save the centroids\n",
        "filename = 'centroids.mat'\n",
        "\n",
        "# Define the interval to save the centroids (in seconds)\n",
        "interval = 10*60\n",
        "\n",
        "# Initialize the time of the last save\n",
        "last_save_time = time.time()\n",
        "\n",
        "# Loop over the number of ellipses to place\n",
        "for i in range(len(ellipses), 1000000):\n",
        "    \n",
        "    # Initialize a flag to indicate whether the ellipse has been successfully placed\n",
        "    placed = False\n",
        "    \n",
        "    # Loop until the ellipse is successfully placed\n",
        "    while not placed:\n",
        "        \n",
        "        # Generate a random position for the center of the ellipse\n",
        "        x = np.random.uniform(a, Lx - a)\n",
        "        y = np.random.uniform(b, Ly - b)\n",
        "        \n",
        "        # Create a Polygon object for the ellipse\n",
        "        xe = a*np.cos(theta) + x\n",
        "        ye = b*np.sin(theta) + y\n",
        "        ellipse = Polygon(np.column_stack((xe, ye)))\n",
        "        \n",
        "        # Check if the ellipse overlaps with any existing ellipses within a certain distance\n",
        "        overlap = False\n",
        "        for j in range(len(ellipses)):\n",
        "            if Point(ellipse.centroid).distance(Point(ellipses[j].centroid)) <= max_dist and ellipse.intersects(ellipses[j]):\n",
        "                overlap = True\n",
        "                break\n",
        "        \n",
        "        # If the ellipse does not overlap, add it to the list of ellipses and increment the counter\n",
        "        if not overlap:\n",
        "            ellipses.append(ellipse)\n",
        "            placed = True\n",
        "            print(f'Ellipses placed: {len(ellipses)}')\n",
        "            # Save the centroids every 10 seconds\n",
        "            if time.time() - last_save_time >= interval:\n",
        "                centroids = []\n",
        "                for j in range(sum([1 for e in ellipses if e])):\n",
        "                    e = ellipses[j]\n",
        "                    p = Polygon(e)\n",
        "                    x, y = p.centroid.x, p.centroid.y\n",
        "                    centroids.append([1, x, y])\n",
        "                centroids = np.array(centroids)\n",
        "                savemat(filename, {'centroids': centroids})\n",
        "                last_save_time = time.time()\n",
        "\n",
        "# Save the final centroids\n",
        "centroids = []\n",
        "for i in range(sum([1 for e in ellipses if e])):\n",
        "    e = ellipses[i]\n",
        "    p = Polygon(e)\n",
        "    x, y = p.centroid.x, p.centroid.y\n",
        "    centroids.append([1, x, y])\n",
        "centroids = np.array(centroids)\n",
        "savemat(filename, {'centroids': centroids})\n",
        "\n",
        "# Plot the ellipses\n",
        "fig, ax = plt.subplots(figsize=(10, 10))\n",
        "for ellipse in ellipses:\n",
        "    ax.plot(*ellipse.exterior.xy, color='black')\n",
        "ax.set_xlim(0, Lx)"
      ]
    },
    {
      "cell_type": "code",
      "source": [
        "# Save the final centroids\n",
        "centroids = []\n",
        "for i in range(sum([1 for e in ellipses if e])):\n",
        "    e = ellipses[i]\n",
        "    p = Polygon(e)\n",
        "    x, y = p.centroid.x, p.centroid.y\n",
        "    centroids.append([1, x, y])\n",
        "centroids = np.array(centroids)\n",
        "savemat(filename, {'centroids': centroids})"
      ],
      "metadata": {
        "id": "molW652Pdz3G"
      },
      "execution_count": null,
      "outputs": []
    },
    {
      "cell_type": "code",
      "source": [
        "from google.colab import files\n",
        "files.download('centroids.mat')"
      ],
      "metadata": {
        "id": "t0gpz1xvdts3"
      },
      "execution_count": null,
      "outputs": []
    },
    {
      "cell_type": "code",
      "source": [
        "fig, ax = plt.subplots(figsize=(10, 10))\n",
        "for ellipse in ellipses:\n",
        "    ax.plot(*ellipse.exterior.xy, color='black')\n",
        "ax.set_xlim(0, Lx)\n",
        "ax.set_ylim(0, Ly)\n",
        "plt.show()\n",
        "     \n"
      ],
      "metadata": {
        "id": "xne1iPq9MMv9"
      },
      "execution_count": null,
      "outputs": []
    },
    {
      "cell_type": "code",
      "source": [
        "import numpy as np\n",
        "\n",
        "# Create mesh with 0.1 step size\n",
        "x_range = 50  # replace with the desired range\n",
        "step_size = 0.1\n",
        "x1, y1 = np.meshgrid(np.arange(0, x_range+step_size, step_size), np.arange(0, x_range+step_size, step_size))\n",
        "\n",
        "threshold = 0\n",
        "\n",
        "# Set points outside the desired range to NaN\n",
        "x1[(x1 < a) | (x1 > x_range - a) | (y1 > x_range - b) | (y1 < b)] = np.nan\n",
        "y1[(x1 < a) | (x1 > x_range - a) | (y1 > x_range - b) | (y1 < b)] = np.nan\n",
        "\n",
        "# Define bounds for each vertex\n",
        "v = centroids \n",
        "n = v.shape[0]\n",
        "xmin = np.zeros(n)\n",
        "xmax = np.zeros(n)\n",
        "ymin = np.zeros(n)\n",
        "ymax = np.zeros(n)\n",
        "\n",
        "aa = 2 * (a - threshold)\n",
        "bb = 2 * b\n",
        "\n",
        "for i in range(n):\n",
        "    x0 = v[i, 1]\n",
        "    y0 = v[i, 2]\n",
        "    xmin[i] = x0 - aa\n",
        "    xmax[i] = x0 + aa\n",
        "    ymin[i] = y0 - bb\n",
        "    ymax[i] = y0 + bb\n",
        "\n",
        "# Set points inside the bounds of each vertex to NaN\n",
        "for i in range(n):\n",
        "    x_cond = (x1 >= xmin[i]) & (x1 <= xmax[i])\n",
        "    y_cond = (y1 >= ymin[i]) & (y1 <= ymax[i])\n",
        "    x1[x_cond & y_cond & np.isnan(x1)] = x_range/2\n",
        "    y1[x_cond & y_cond & np.isnan(y1)] = x_range/2\n"
      ],
      "metadata": {
        "id": "eb1EWsl-v9CW"
      },
      "execution_count": null,
      "outputs": []
    },
    {
      "cell_type": "code",
      "source": [
        "# Find the rows where both x and y are NaN\n",
        "nan_rows = np.isnan(x1) | np.isnan(y1)\n",
        "\n",
        "# Remove the rows from x1 and y1 where both values are NaN\n",
        "x1 = x1[~nan_rows]\n",
        "y1 = y1[~nan_rows]"
      ],
      "metadata": {
        "id": "CQXJ0PW30GOh"
      },
      "execution_count": null,
      "outputs": []
    },
    {
      "cell_type": "code",
      "source": [
        "x1"
      ],
      "metadata": {
        "id": "sQwMBXaly45N"
      },
      "execution_count": null,
      "outputs": []
    },
    {
      "cell_type": "code",
      "source": [
        "y1"
      ],
      "metadata": {
        "id": "A8ujyYpD2Rqo"
      },
      "execution_count": null,
      "outputs": []
    },
    {
      "cell_type": "code",
      "source": [
        "# Initialize a list to store the ellipses to be added to V\n",
        "\n",
        "\n",
        "# Loop over the non-NaN values in x1 and y1\n",
        "for i in range(x1.shape[0]):\n",
        "            x = x1[i]\n",
        "            y = y1[i]\n",
        "            #print(x)\n",
        "            # Create a Polygon object for the ellipse\n",
        "            xe = a*np.cos(theta) + x\n",
        "            ye = b*np.sin(theta) + y\n",
        "            ellipse = Polygon(np.column_stack((xe, ye)))\n",
        "            \n",
        "            # Check if the ellipse overlaps with any existing ellipses within a certain distance\n",
        "            overlap = False\n",
        "            for k in range(len(ellipses)):\n",
        "                if Point(ellipse.centroid).distance(Point(ellipses[k].centroid)) <= max_dist and ellipse.intersects(ellipses[k]):\n",
        "                    overlap = True\n",
        "                    break\n",
        "            \n",
        "            # If the ellipse does not overlap, add it to the list of ellipses and increment the counter\n",
        "            if not overlap:\n",
        "                ellipses.append(ellipse)\n",
        "                placed = True\n",
        "                print(f'Ellipses placed: {len(ellipses)}')"
      ],
      "metadata": {
        "id": "Cz3injddyKLN"
      },
      "execution_count": null,
      "outputs": []
    }
  ]
}